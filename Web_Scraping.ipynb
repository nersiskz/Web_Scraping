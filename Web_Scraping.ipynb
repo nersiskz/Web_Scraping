{
 "cells": [
  {
   "cell_type": "markdown",
   "id": "stuffed-cologne",
   "metadata": {},
   "source": [
    "# Web Scraping with Beautiful Soup"
   ]
  },
  {
   "cell_type": "markdown",
   "id": "wired-joint",
   "metadata": {},
   "source": [
    "<a href=\"https://content.codecademy.com/courses/beautifulsoup/cacao/index.html\"> This website </a> has over 1700 reviews of chocolate bars from all around the world. \n",
    "We use BeautifulSoup to transform this webpage into a DataFrame that we can manipulate and analyze.\n",
    "The data is displayed in a table, instead of in a csv or json.\n",
    "\n",
    "The rating scale is from 1-5. A 1 is “unpleasant” chocolate, while a 5 is a bar that transcends “beyond the ordinary limits”.\n",
    "\n",
    "Some questions we thought about when we found this dataset were:\n",
    "\n",
    "Where are the best cocao beans grown?<br/>\n",
    "Which countries produce the highest-rated bars?<br/>\n",
    "What’s the relationship between cocao solids percentage and rating?<br/>\n",
    "We want to answer these questions, or uncover more questions, using BeautifulSoup and Pandas."
   ]
  },
  {
   "cell_type": "markdown",
   "id": "objective-bacon",
   "metadata": {},
   "source": [
    "### Import Part"
   ]
  },
  {
   "cell_type": "code",
   "execution_count": 28,
   "id": "oriented-header",
   "metadata": {},
   "outputs": [],
   "source": [
    "from bs4 import BeautifulSoup\n",
    "import requests\n",
    "import pandas as pd\n",
    "import matplotlib.pyplot as plt\n",
    "import numpy as np"
   ]
  },
  {
   "cell_type": "markdown",
   "id": "original-weight",
   "metadata": {},
   "source": [
    "### Make a Soup Object"
   ]
  },
  {
   "cell_type": "code",
   "execution_count": 29,
   "id": "micro-lease",
   "metadata": {},
   "outputs": [],
   "source": [
    "url = \"https://s3.amazonaws.com/codecademy-content/courses/beautifulsoup/cacao/index.html\"\n",
    "webpage_response = requests.get(url)\n",
    "webpage = webpage_response.content\n",
    "soup = BeautifulSoup(webpage, 'html.parser')"
   ]
  },
  {
   "cell_type": "markdown",
   "id": "blind-click",
   "metadata": {},
   "source": [
    "### ratings distribution"
   ]
  },
  {
   "cell_type": "code",
   "execution_count": 30,
   "id": "nutritional-plaintiff",
   "metadata": {},
   "outputs": [],
   "source": [
    "rate = soup.find_all(attrs = {'class':'Rating'})\n",
    "ratings = []\n",
    "for tag in rate[1:]:\n",
    "  ratings.append(float(tag.get_text()))"
   ]
  },
  {
   "cell_type": "code",
   "execution_count": 32,
   "id": "collected-subdivision",
   "metadata": {
    "scrolled": true
   },
   "outputs": [
    {
     "data": {
      "image/png": "[encoded data removed]",
      "text/plain": [
       "<Figure size 432x288 with 1 Axes>"
      ]
     },
     "metadata": {
      "needs_background": "light"
     },
     "output_type": "display_data"
    }
   ],
   "source": [
    "plt.hist(ratings)\n",
    "plt.ylabel(\"Frequency\")\n",
    "plt.xlabel(\"Rating\")\n",
    "plt.show()"
   ]
  },
  {
   "cell_type": "markdown",
   "id": "later-toronto",
   "metadata": {},
   "source": [
    "### 10 most highly rated chocolate companies"
   ]
  },
  {
   "cell_type": "code",
   "execution_count": 34,
   "id": "tutorial-alcohol",
   "metadata": {},
   "outputs": [],
   "source": [
    "tag_name = soup.select('.Company')\n",
    "\n",
    "companies = []\n",
    "for tag in tag_name[1:]:\n",
    "  companies.append(tag.get_text())"
   ]
  },
  {
   "cell_type": "code",
   "execution_count": 37,
   "id": "computational-cruise",
   "metadata": {
    "scrolled": true
   },
   "outputs": [],
   "source": [
    "df = pd.DataFrame({\"Company\": companies, \"Rating\": ratings})"
   ]
  },
  {
   "cell_type": "code",
   "execution_count": 39,
   "id": "waiting-assumption",
   "metadata": {
    "scrolled": true
   },
   "outputs": [
    {
     "data": {
      "text/html": [
       "<div>\n",
       "<style scoped>\n",
       "    .dataframe tbody tr th:only-of-type {\n",
       "        vertical-align: middle;\n",
       "    }\n",
       "\n",
       "    .dataframe tbody tr th {\n",
       "        vertical-align: top;\n",
       "    }\n",
       "\n",
       "    .dataframe thead th {\n",
       "        text-align: right;\n",
       "    }\n",
       "</style>\n",
       "<table border=\"1\" class=\"dataframe\">\n",
       "  <thead>\n",
       "    <tr style=\"text-align: right;\">\n",
       "      <th></th>\n",
       "      <th>Company</th>\n",
       "      <th>Rating</th>\n",
       "    </tr>\n",
       "  </thead>\n",
       "  <tbody>\n",
       "    <tr>\n",
       "      <th>380</th>\n",
       "      <td>Tobago Estate (Pralus)</td>\n",
       "      <td>4.000000</td>\n",
       "    </tr>\n",
       "    <tr>\n",
       "      <th>183</th>\n",
       "      <td>Heirloom Cacao Preservation (Zokoko)</td>\n",
       "      <td>3.875000</td>\n",
       "    </tr>\n",
       "    <tr>\n",
       "      <th>287</th>\n",
       "      <td>Ocelot</td>\n",
       "      <td>3.875000</td>\n",
       "    </tr>\n",
       "    <tr>\n",
       "      <th>14</th>\n",
       "      <td>Amedei</td>\n",
       "      <td>3.846154</td>\n",
       "    </tr>\n",
       "    <tr>\n",
       "      <th>249</th>\n",
       "      <td>Matale</td>\n",
       "      <td>3.812500</td>\n",
       "    </tr>\n",
       "    <tr>\n",
       "      <th>304</th>\n",
       "      <td>Patric</td>\n",
       "      <td>3.791667</td>\n",
       "    </tr>\n",
       "    <tr>\n",
       "      <th>191</th>\n",
       "      <td>Idilio (Felchlin)</td>\n",
       "      <td>3.775000</td>\n",
       "    </tr>\n",
       "    <tr>\n",
       "      <th>2</th>\n",
       "      <td>Acalli</td>\n",
       "      <td>3.750000</td>\n",
       "    </tr>\n",
       "    <tr>\n",
       "      <th>82</th>\n",
       "      <td>Chocola'te</td>\n",
       "      <td>3.750000</td>\n",
       "    </tr>\n",
       "    <tr>\n",
       "      <th>96</th>\n",
       "      <td>Christopher Morel (Felchlin)</td>\n",
       "      <td>3.750000</td>\n",
       "    </tr>\n",
       "  </tbody>\n",
       "</table>\n",
       "</div>"
      ],
      "text/plain": [
       "                                  Company    Rating\n",
       "380                Tobago Estate (Pralus)  4.000000\n",
       "183  Heirloom Cacao Preservation (Zokoko)  3.875000\n",
       "287                                Ocelot  3.875000\n",
       "14                                 Amedei  3.846154\n",
       "249                                Matale  3.812500\n",
       "304                                Patric  3.791667\n",
       "191                     Idilio (Felchlin)  3.775000\n",
       "2                                  Acalli  3.750000\n",
       "82                             Chocola'te  3.750000\n",
       "96           Christopher Morel (Felchlin)  3.750000"
      ]
     },
     "execution_count": 39,
     "metadata": {},
     "output_type": "execute_result"
    }
   ],
   "source": [
    "average_company_rating = df.groupby(\"Company\").Rating.mean().reset_index()\n",
    "\n",
    "ten_best_rated = average_company_rating.nlargest(10, \"Rating\")\n",
    "\n",
    "ten_best_rated.head(10)"
   ]
  },
  {
   "cell_type": "markdown",
   "id": "welcome-complex",
   "metadata": {},
   "source": [
    "### Is more cacao better?"
   ]
  },
  {
   "cell_type": "code",
   "execution_count": 40,
   "id": "split-coffee",
   "metadata": {},
   "outputs": [],
   "source": [
    "cocoa_percents = []\n",
    "cocoa_percent_tags = soup.select(\".CocoaPercent\")\n",
    " \n",
    "for td in cocoa_percent_tags[1:]:\n",
    "  percent = float(td.get_text().strip('%'))\n",
    "  cocoa_percents.append(percent)"
   ]
  },
  {
   "cell_type": "code",
   "execution_count": 42,
   "id": "circular-reality",
   "metadata": {},
   "outputs": [],
   "source": [
    "d = {'Ratings': ratings, 'company_name': companies ,'CocoaPercentage': cocoa_percents}\n",
    "\n",
    "cocoa_df = pd.DataFrame(d)"
   ]
  },
  {
   "cell_type": "code",
   "execution_count": 43,
   "id": "vanilla-sleeve",
   "metadata": {},
   "outputs": [
    {
     "data": {
      "image/png": "[encoded data removed]",
      "text/plain": [
       "<Figure size 432x288 with 1 Axes>"
      ]
     },
     "metadata": {
      "needs_background": "light"
     },
     "output_type": "display_data"
    }
   ],
   "source": [
    "plt.clf()\n",
    "plt.scatter(cocoa_df.CocoaPercentage, cocoa_df.Ratings)\n",
    "plt.ylabel(\"Ratings\")\n",
    "plt.xlabel(\"Cocoa Percentage in choclate\")\n",
    "z = np.polyfit(cocoa_df.CocoaPercentage, cocoa_df.Ratings, 1)\n",
    "line_function = np.poly1d(z)\n",
    "plt.plot(cocoa_df.CocoaPercentage, line_function(cocoa_df.CocoaPercentage), \"r--\")\n",
    "plt.show()"
   ]
  },
  {
   "cell_type": "markdown",
   "id": "divine-croatia",
   "metadata": {},
   "source": [
    "### Where are the best cocoa beans grown?"
   ]
  },
  {
   "cell_type": "code",
   "execution_count": 44,
   "id": "nearby-agenda",
   "metadata": {},
   "outputs": [],
   "source": [
    "origins = []\n",
    "origin_tags = soup.select(\".BroadBeanOrigin\")\n",
    " \n",
    "for tag in origin_tags[1:]:\n",
    "  origins.append(tag.get_text())"
   ]
  },
  {
   "cell_type": "code",
   "execution_count": 45,
   "id": "altered-absorption",
   "metadata": {},
   "outputs": [],
   "source": [
    "d = {'Ratings': ratings ,'BroadBeanOrigin': origins}\n",
    "\n",
    "origin_df = pd.DataFrame(d)"
   ]
  },
  {
   "cell_type": "code",
   "execution_count": 46,
   "id": "statutory-eating",
   "metadata": {},
   "outputs": [
    {
     "data": {
      "text/html": [
       "<div>\n",
       "<style scoped>\n",
       "    .dataframe tbody tr th:only-of-type {\n",
       "        vertical-align: middle;\n",
       "    }\n",
       "\n",
       "    .dataframe tbody tr th {\n",
       "        vertical-align: top;\n",
       "    }\n",
       "\n",
       "    .dataframe thead th {\n",
       "        text-align: right;\n",
       "    }\n",
       "</style>\n",
       "<table border=\"1\" class=\"dataframe\">\n",
       "  <thead>\n",
       "    <tr style=\"text-align: right;\">\n",
       "      <th></th>\n",
       "      <th>BroadBeanOrigin</th>\n",
       "      <th>Ratings</th>\n",
       "    </tr>\n",
       "  </thead>\n",
       "  <tbody>\n",
       "    <tr>\n",
       "      <th>32</th>\n",
       "      <td>Gre., PNG, Haw., Haiti, Mad</td>\n",
       "      <td>4.00</td>\n",
       "    </tr>\n",
       "    <tr>\n",
       "      <th>95</th>\n",
       "      <td>Venezuela, Java</td>\n",
       "      <td>4.00</td>\n",
       "    </tr>\n",
       "    <tr>\n",
       "      <th>34</th>\n",
       "      <td>Guat., D.R., Peru, Mad., PNG</td>\n",
       "      <td>4.00</td>\n",
       "    </tr>\n",
       "    <tr>\n",
       "      <th>85</th>\n",
       "      <td>Ven, Bolivia, D.R.</td>\n",
       "      <td>4.00</td>\n",
       "    </tr>\n",
       "    <tr>\n",
       "      <th>18</th>\n",
       "      <td>Dom. Rep., Madagascar</td>\n",
       "      <td>4.00</td>\n",
       "    </tr>\n",
       "    <tr>\n",
       "      <th>59</th>\n",
       "      <td>Peru, Dom. Rep</td>\n",
       "      <td>4.00</td>\n",
       "    </tr>\n",
       "    <tr>\n",
       "      <th>20</th>\n",
       "      <td>Dominican Rep., Bali</td>\n",
       "      <td>3.75</td>\n",
       "    </tr>\n",
       "    <tr>\n",
       "      <th>17</th>\n",
       "      <td>DR, Ecuador, Peru</td>\n",
       "      <td>3.75</td>\n",
       "    </tr>\n",
       "    <tr>\n",
       "      <th>90</th>\n",
       "      <td>Venez,Africa,Brasil,Peru,Mex</td>\n",
       "      <td>3.75</td>\n",
       "    </tr>\n",
       "    <tr>\n",
       "      <th>89</th>\n",
       "      <td>Ven.,Ecu.,Peru,Nic.</td>\n",
       "      <td>3.75</td>\n",
       "    </tr>\n",
       "  </tbody>\n",
       "</table>\n",
       "</div>"
      ],
      "text/plain": [
       "                 BroadBeanOrigin  Ratings\n",
       "32   Gre., PNG, Haw., Haiti, Mad     4.00\n",
       "95               Venezuela, Java     4.00\n",
       "34  Guat., D.R., Peru, Mad., PNG     4.00\n",
       "85            Ven, Bolivia, D.R.     4.00\n",
       "18         Dom. Rep., Madagascar     4.00\n",
       "59                Peru, Dom. Rep     4.00\n",
       "20          Dominican Rep., Bali     3.75\n",
       "17             DR, Ecuador, Peru     3.75\n",
       "90  Venez,Africa,Brasil,Peru,Mex     3.75\n",
       "89           Ven.,Ecu.,Peru,Nic.     3.75"
      ]
     },
     "execution_count": 46,
     "metadata": {},
     "output_type": "execute_result"
    }
   ],
   "source": [
    "origin_df.groupby(\"BroadBeanOrigin\").Ratings.mean().reset_index().sort_values(by=\"Ratings\", ascending=False).head(10)"
   ]
  },
  {
   "cell_type": "markdown",
   "id": "standard-fundamentals",
   "metadata": {},
   "source": [
    "### Which countries produce the highest-rated bars?"
   ]
  },
  {
   "cell_type": "code",
   "execution_count": 47,
   "id": "enhanced-reserve",
   "metadata": {},
   "outputs": [],
   "source": [
    "company_locations = []\n",
    "company_location_tags = soup.select(\".CompanyLocation\")\n",
    " \n",
    "for tag in company_location_tags[1:]:\n",
    "  company_locations.append(tag.get_text())"
   ]
  },
  {
   "cell_type": "code",
   "execution_count": 49,
   "id": "exposed-pipeline",
   "metadata": {},
   "outputs": [],
   "source": [
    "d = {'Ratings': ratings ,'CompanyLocation': company_locations}\n",
    "\n",
    "location_df = pd.DataFrame(d)"
   ]
  },
  {
   "cell_type": "code",
   "execution_count": 54,
   "id": "rocky-synthesis",
   "metadata": {},
   "outputs": [
    {
     "data": {
      "text/html": [
       "<div>\n",
       "<style scoped>\n",
       "    .dataframe tbody tr th:only-of-type {\n",
       "        vertical-align: middle;\n",
       "    }\n",
       "\n",
       "    .dataframe tbody tr th {\n",
       "        vertical-align: top;\n",
       "    }\n",
       "\n",
       "    .dataframe thead th {\n",
       "        text-align: right;\n",
       "    }\n",
       "</style>\n",
       "<table border=\"1\" class=\"dataframe\">\n",
       "  <thead>\n",
       "    <tr style=\"text-align: right;\">\n",
       "      <th></th>\n",
       "      <th>CompanyLocation</th>\n",
       "      <th>Ratings</th>\n",
       "    </tr>\n",
       "  </thead>\n",
       "  <tbody>\n",
       "    <tr>\n",
       "      <th>8</th>\n",
       "      <td>Chile</td>\n",
       "      <td>3.750000</td>\n",
       "    </tr>\n",
       "    <tr>\n",
       "      <th>0</th>\n",
       "      <td>Amsterdam</td>\n",
       "      <td>3.500000</td>\n",
       "    </tr>\n",
       "    <tr>\n",
       "      <th>35</th>\n",
       "      <td>Netherlands</td>\n",
       "      <td>3.500000</td>\n",
       "    </tr>\n",
       "    <tr>\n",
       "      <th>40</th>\n",
       "      <td>Philippines</td>\n",
       "      <td>3.500000</td>\n",
       "    </tr>\n",
       "    <tr>\n",
       "      <th>25</th>\n",
       "      <td>Iceland</td>\n",
       "      <td>3.416667</td>\n",
       "    </tr>\n",
       "    <tr>\n",
       "      <th>58</th>\n",
       "      <td>Vietnam</td>\n",
       "      <td>3.409091</td>\n",
       "    </tr>\n",
       "    <tr>\n",
       "      <th>6</th>\n",
       "      <td>Brazil</td>\n",
       "      <td>3.397059</td>\n",
       "    </tr>\n",
       "    <tr>\n",
       "      <th>41</th>\n",
       "      <td>Poland</td>\n",
       "      <td>3.375000</td>\n",
       "    </tr>\n",
       "    <tr>\n",
       "      <th>2</th>\n",
       "      <td>Australia</td>\n",
       "      <td>3.357143</td>\n",
       "    </tr>\n",
       "    <tr>\n",
       "      <th>22</th>\n",
       "      <td>Guatemala</td>\n",
       "      <td>3.350000</td>\n",
       "    </tr>\n",
       "  </tbody>\n",
       "</table>\n",
       "</div>"
      ],
      "text/plain": [
       "   CompanyLocation   Ratings\n",
       "8            Chile  3.750000\n",
       "0        Amsterdam  3.500000\n",
       "35     Netherlands  3.500000\n",
       "40     Philippines  3.500000\n",
       "25         Iceland  3.416667\n",
       "58         Vietnam  3.409091\n",
       "6           Brazil  3.397059\n",
       "41          Poland  3.375000\n",
       "2        Australia  3.357143\n",
       "22       Guatemala  3.350000"
      ]
     },
     "execution_count": 54,
     "metadata": {},
     "output_type": "execute_result"
    }
   ],
   "source": [
    "# location_df.groupby(\"CompanyLocation\").Ratings.mean().reset_index().sort_values(by=\"Ratings\", ascending=False).head(10)\n",
    "\n",
    "location_df.groupby(\"CompanyLocation\").Ratings.mean().reset_index().nlargest(10, \"Ratings\").head(10)"
   ]
  }
 ],
 "metadata": {
  "kernelspec": {
   "display_name": "Python 3",
   "language": "python",
   "name": "python3"
  },
  "language_info": {
   "codemirror_mode": {
    "name": "ipython",
    "version": 3
   },
   "file_extension": ".py",
   "mimetype": "text/x-python",
   "name": "python",
   "nbconvert_exporter": "python",
   "pygments_lexer": "ipython3",
   "version": "3.9.1"
  }
 },
 "nbformat": 4,
 "nbformat_minor": 5
}
